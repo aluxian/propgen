{
 "cells": [
  {
   "cell_type": "code",
   "execution_count": 56,
   "metadata": {},
   "outputs": [],
   "source": [
    "from bs4 import BeautifulSoup\n",
    "from urllib.parse import urlencode, urlunparse\n",
    "from textgenrnn import textgenrnn\n",
    "import requests\n",
    "import pandas as pd"
   ]
  },
  {
   "cell_type": "code",
   "execution_count": 16,
   "metadata": {},
   "outputs": [
    {
     "name": "stdout",
     "output_type": "stream",
     "text": [
      "http://www.zoopla.co.uk/to-rent/property/london/?q=london&page_size=100&pn=1\n",
      "100\n"
     ]
    }
   ],
   "source": [
    "params = {'q': 'london', 'page_size': 100, 'pn': 1}\n",
    "url = urlunparse(['http', 'www.zoopla.co.uk', 'to-rent/property/london/', '', urlencode(params), ''])\n",
    "search_page = BeautifulSoup(requests.get(url).content, 'html5lib')\n",
    "listings = search_page.find_all('li', attrs={'data-listing-id': True})\n",
    "print(url)\n",
    "print(len(listings))"
   ]
  },
  {
   "cell_type": "code",
   "execution_count": 65,
   "metadata": {},
   "outputs": [],
   "source": [
    "def parse_listing(listing):\n",
    "    return {\n",
    "        'listing_id': int(listing.attrs['data-listing-id']),\n",
    "        'price': int(list(listing.find('a', class_='text-price').children)[0].replace('pcm', '').replace(',', '').replace(u'\\xa3', '').strip()),\n",
    "#         'beds': int(listing.find('span', class_='num-beds').get_text().strip()) if listing.find('span', class_='num-beds') is not None else None,\n",
    "        'url': 'https://www.zoopla.co.uk/to-rent/details/' + listing.attrs['data-listing-id'],\n",
    "    }"
   ]
  },
  {
   "cell_type": "code",
   "execution_count": 66,
   "metadata": {},
   "outputs": [
    {
     "data": {
      "text/html": [
       "<div>\n",
       "<style scoped>\n",
       "    .dataframe tbody tr th:only-of-type {\n",
       "        vertical-align: middle;\n",
       "    }\n",
       "\n",
       "    .dataframe tbody tr th {\n",
       "        vertical-align: top;\n",
       "    }\n",
       "\n",
       "    .dataframe thead th {\n",
       "        text-align: right;\n",
       "    }\n",
       "</style>\n",
       "<table border=\"1\" class=\"dataframe\">\n",
       "  <thead>\n",
       "    <tr style=\"text-align: right;\">\n",
       "      <th></th>\n",
       "      <th>listing_id</th>\n",
       "      <th>price</th>\n",
       "      <th>url</th>\n",
       "    </tr>\n",
       "  </thead>\n",
       "  <tbody>\n",
       "    <tr>\n",
       "      <th>0</th>\n",
       "      <td>51470233</td>\n",
       "      <td>1257</td>\n",
       "      <td>https://www.zoopla.co.uk/to-rent/details/51470233</td>\n",
       "    </tr>\n",
       "    <tr>\n",
       "      <th>1</th>\n",
       "      <td>51470227</td>\n",
       "      <td>2167</td>\n",
       "      <td>https://www.zoopla.co.uk/to-rent/details/51470227</td>\n",
       "    </tr>\n",
       "    <tr>\n",
       "      <th>2</th>\n",
       "      <td>51470224</td>\n",
       "      <td>1800</td>\n",
       "      <td>https://www.zoopla.co.uk/to-rent/details/51470224</td>\n",
       "    </tr>\n",
       "    <tr>\n",
       "      <th>3</th>\n",
       "      <td>51470226</td>\n",
       "      <td>2100</td>\n",
       "      <td>https://www.zoopla.co.uk/to-rent/details/51470226</td>\n",
       "    </tr>\n",
       "    <tr>\n",
       "      <th>4</th>\n",
       "      <td>51470218</td>\n",
       "      <td>1755</td>\n",
       "      <td>https://www.zoopla.co.uk/to-rent/details/51470218</td>\n",
       "    </tr>\n",
       "  </tbody>\n",
       "</table>\n",
       "</div>"
      ],
      "text/plain": [
       "   listing_id  price                                                url\n",
       "0    51470233   1257  https://www.zoopla.co.uk/to-rent/details/51470233\n",
       "1    51470227   2167  https://www.zoopla.co.uk/to-rent/details/51470227\n",
       "2    51470224   1800  https://www.zoopla.co.uk/to-rent/details/51470224\n",
       "3    51470226   2100  https://www.zoopla.co.uk/to-rent/details/51470226\n",
       "4    51470218   1755  https://www.zoopla.co.uk/to-rent/details/51470218"
      ]
     },
     "execution_count": 66,
     "metadata": {},
     "output_type": "execute_result"
    }
   ],
   "source": [
    "df = pd.DataFrame(map(parse_listing, listings))\n",
    "df.head()"
   ]
  },
  {
   "cell_type": "code",
   "execution_count": 98,
   "metadata": {},
   "outputs": [],
   "source": [
    "%%time\n",
    "df['description'] = pd.Series([\n",
    "    BeautifulSoup(requests.get(df.iloc[i]['url']).content, 'html5lib')\n",
    "        .find('div', class_='dp-description__text')\n",
    "        .get_text('\\n')\n",
    "    for i in range(len(df))\n",
    "])"
   ]
  },
  {
   "cell_type": "code",
   "execution_count": 99,
   "metadata": {},
   "outputs": [],
   "source": [
    "df.to_csv('zoopla100.csv', index=False)"
   ]
  },
  {
   "cell_type": "code",
   "execution_count": 100,
   "metadata": {},
   "outputs": [
    {
     "name": "stdout",
     "output_type": "stream",
     "text": [
      "\n",
      "                                        We are pleased to present this 1 bed property in Hackney.\n",
      "It is £290 pw\n",
      "Property features:\n",
      "- cooker, fridge and more\n",
      "- good sized property\n",
      "- separate fitted kitchen\n",
      "DSS with guarantor accepted for this property\n",
      "The property is close to all local amenities, shops, restaurants etc. Bills are included with the rent price. One-month rent, one-month deposit and agency fees apply. For more information please give us a call.\n",
      "                                    \n"
     ]
    }
   ],
   "source": [
    "print(df['description'][0])"
   ]
  },
  {
   "cell_type": "code",
   "execution_count": 106,
   "metadata": {},
   "outputs": [],
   "source": [
    "with open(\"zoopla_descriptions100.txt\", \"w\") as f:\n",
    "    f.write('\\n'.join(df['description'].values))"
   ]
  },
  {
   "cell_type": "code",
   "execution_count": 107,
   "metadata": {},
   "outputs": [
    {
     "name": "stdout",
     "output_type": "stream",
     "text": [
      "687 texts collected.\n",
      "Training on 66,025 character sequences.\n",
      "Epoch 1/1\n",
      "515/515 [==============================] - 93s 181ms/step - loss: 1.3305\n",
      "####################\n",
      "Temperature: 0.2\n",
      "####################\n",
      "                                                                                                                                                                                                                                                                                                           \n",
      "\n",
      "                                                                                                                                                                                                                                                                                                           \n",
      "\n",
      "                                                                                                                                                                                                                                                                                                           \n",
      "\n",
      "####################\n",
      "Temperature: 0.5\n",
      "####################\n",
      "                                                                                  L three bedroom apartment area will fully modern the first floor with the property flooring apartment includes offer this finished and fitted station. The property is fitted arranged and commurast floor from a space b\n",
      "\n",
      "A shops and fitted art with station and 5 Bedroom at wood the park wood of the first for excellect.\n",
      "\n",
      "                                                            A located in the home of the property convents of the communted manding the property and popular for the excellent and property wood to band on the first of the makes and tube with standard offers to a sturpher to offer this period and woo\n",
      "\n",
      "####################\n",
      "Temperature: 1.0\n",
      "####################\n",
      "£240m x Tips with to refurbished villation like offer offer hiss Hills gated interess\n",
      "\n",
      "                                         The 3 double bedroom contiver double quiet with a wardnoes and poletys flat a heart away, total reception for two hot by  nvow than we teath as £29000.00\n",
      "\n",
      "A datayo state first further\n",
      "\n",
      "A short is the period bedroom apartment room, furnished within sch open contrexte bedroom and arrange for the first homest apartment in for fitt with a Squad and a room of high storage station. The property is a distle fitted and area.\n",
      "\n"
     ]
    }
   ],
   "source": [
    "%%time\n",
    "textgen = textgenrnn()\n",
    "textgen.train_from_file(\"zoopla_descriptions100.txt\", num_epochs=1)"
   ]
  },
  {
   "cell_type": "code",
   "execution_count": 108,
   "metadata": {},
   "outputs": [
    {
     "name": "stdout",
     "output_type": "stream",
     "text": [
      "The bedroom floor from the property flooring and offers a property funny and the property flooring and amazie this property walking kitchen with a station of the first reception room. Market in the property flooring within situated convinity with a comprises of the reception furnished and fitted re\n",
      "\n"
     ]
    }
   ],
   "source": [
    "textgen.generate()"
   ]
  },
  {
   "cell_type": "code",
   "execution_count": null,
   "metadata": {},
   "outputs": [],
   "source": []
  }
 ],
 "metadata": {
  "kernelspec": {
   "display_name": "Python 3",
   "language": "python",
   "name": "python3"
  },
  "language_info": {
   "codemirror_mode": {
    "name": "ipython",
    "version": 3
   },
   "file_extension": ".py",
   "mimetype": "text/x-python",
   "name": "python",
   "nbconvert_exporter": "python",
   "pygments_lexer": "ipython3",
   "version": "3.7.3"
  },
  "toc": {
   "base_numbering": 1,
   "nav_menu": {},
   "number_sections": true,
   "sideBar": true,
   "skip_h1_title": false,
   "title_cell": "Table of Contents",
   "title_sidebar": "Contents",
   "toc_cell": false,
   "toc_position": {},
   "toc_section_display": true,
   "toc_window_display": false
  }
 },
 "nbformat": 4,
 "nbformat_minor": 2
}
